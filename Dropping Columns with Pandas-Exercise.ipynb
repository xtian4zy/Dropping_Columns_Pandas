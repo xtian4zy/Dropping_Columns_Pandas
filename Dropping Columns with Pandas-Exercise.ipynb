{
 "cells": [
  {
   "cell_type": "markdown",
   "id": "e1bbb20a",
   "metadata": {},
   "source": [
    "## Exercise Description:\n",
    "\n",
    "Following the class lesson and using the 'tips' dataset, perform the following tasks:\n",
    "\n",
    "1. Load the dataset.\n",
    "2. Observe the dataset.\n",
    "3. Make a copy of dataset.\n",
    "4. Drop the 'size' column by using the column name.\n",
    "5. Drop the columns at index 2 and 4 using index key.\n",
    "6. Drop the columns 'tip', 'sex', and 'smoker' using column names.\n",
    "7. Using iloc[] method drop column 5.\n",
    "    \n"
   ]
  },
  {
   "cell_type": "markdown",
   "id": "c18daee5",
   "metadata": {},
   "source": [
    "### Load Dataset"
   ]
  },
  {
   "cell_type": "code",
   "execution_count": null,
   "id": "cd77adf8",
   "metadata": {},
   "outputs": [],
   "source": []
  },
  {
   "cell_type": "markdown",
   "id": "e94415da",
   "metadata": {},
   "source": [
    "### Observe the dataset."
   ]
  },
  {
   "cell_type": "code",
   "execution_count": null,
   "id": "7d563cbf",
   "metadata": {},
   "outputs": [],
   "source": []
  },
  {
   "cell_type": "markdown",
   "id": "15cd473a",
   "metadata": {},
   "source": [
    "### Make a copy of dataset."
   ]
  },
  {
   "cell_type": "code",
   "execution_count": null,
   "id": "1c045ff9",
   "metadata": {},
   "outputs": [],
   "source": []
  },
  {
   "cell_type": "markdown",
   "id": "01eb9153",
   "metadata": {},
   "source": [
    "### Drop the 'size' column by using the column name."
   ]
  },
  {
   "cell_type": "code",
   "execution_count": null,
   "id": "625e6542",
   "metadata": {},
   "outputs": [],
   "source": []
  },
  {
   "cell_type": "markdown",
   "id": "67276618",
   "metadata": {},
   "source": [
    "### Drop the columns at index 2 and 4 using index key."
   ]
  },
  {
   "cell_type": "code",
   "execution_count": null,
   "id": "01d60e87",
   "metadata": {},
   "outputs": [],
   "source": []
  },
  {
   "cell_type": "markdown",
   "id": "e8aa0df9",
   "metadata": {},
   "source": [
    "### Drop the columns 'tip', 'sex', and 'smoker' using column names."
   ]
  },
  {
   "cell_type": "code",
   "execution_count": null,
   "id": "5903c5ca",
   "metadata": {},
   "outputs": [],
   "source": []
  },
  {
   "cell_type": "markdown",
   "id": "f377dbdc",
   "metadata": {},
   "source": [
    "### Using iloc[] method drop column 5."
   ]
  },
  {
   "cell_type": "code",
   "execution_count": null,
   "id": "c4ffafb1",
   "metadata": {},
   "outputs": [],
   "source": []
  },
  {
   "cell_type": "markdown",
   "id": "6fb15272",
   "metadata": {},
   "source": [
    "### Wrap Up\n",
    "\n",
    "Good to have you complete this exercise. If you have any challenge reach me on [Data Science Arena](https://twitter.com/@xtian4zy). Also, tag me on twitter on @xtian4zy to a link to your solution and I'll check it out. \n",
    "\n",
    "Join our [Telegram group via](https://t.me/datasciencearena)."
   ]
  }
 ],
 "metadata": {
  "kernelspec": {
   "display_name": "Python 3",
   "language": "python",
   "name": "python3"
  },
  "language_info": {
   "codemirror_mode": {
    "name": "ipython",
    "version": 3
   },
   "file_extension": ".py",
   "mimetype": "text/x-python",
   "name": "python",
   "nbconvert_exporter": "python",
   "pygments_lexer": "ipython3",
   "version": "3.8.8"
  }
 },
 "nbformat": 4,
 "nbformat_minor": 5
}
