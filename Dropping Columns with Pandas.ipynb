{
 "cells": [
  {
   "cell_type": "markdown",
   "id": "e1bbb20a",
   "metadata": {},
   "source": [
    "## Class Description:\n",
    "\n",
    "In this class we will learn how to delete columns as part of our data cleaning task. We will cover the following:\n",
    "\n",
    "1. How to delete columns\n",
    "    * Using the drop() method to delete columns and the various techniques\n",
    "        - Remove specific single column.\n",
    "        - Remove specific multiple columns.\n",
    "        - Remove columns as based on column index.\n",
    "        - Drop columns using iloc[] and drop() method.\n",
    "        - Drop columns using loc[] and drop() method.\n",
    "\n"
   ]
  },
  {
   "cell_type": "markdown",
   "id": "c18daee5",
   "metadata": {},
   "source": [
    "### Create a sample Dataset"
   ]
  },
  {
   "cell_type": "code",
   "execution_count": 33,
   "id": "5bef0ca8",
   "metadata": {},
   "outputs": [
    {
     "data": {
      "text/html": [
       "<div>\n",
       "<style scoped>\n",
       "    .dataframe tbody tr th:only-of-type {\n",
       "        vertical-align: middle;\n",
       "    }\n",
       "\n",
       "    .dataframe tbody tr th {\n",
       "        vertical-align: top;\n",
       "    }\n",
       "\n",
       "    .dataframe thead th {\n",
       "        text-align: right;\n",
       "    }\n",
       "</style>\n",
       "<table border=\"1\" class=\"dataframe\">\n",
       "  <thead>\n",
       "    <tr style=\"text-align: right;\">\n",
       "      <th></th>\n",
       "      <th>Name</th>\n",
       "      <th>Age</th>\n",
       "      <th>Sex</th>\n",
       "      <th>Location</th>\n",
       "      <th>Status</th>\n",
       "      <th>Job</th>\n",
       "    </tr>\n",
       "  </thead>\n",
       "  <tbody>\n",
       "    <tr>\n",
       "      <th>1</th>\n",
       "      <td>Jane</td>\n",
       "      <td>20</td>\n",
       "      <td>Female</td>\n",
       "      <td>Russia</td>\n",
       "      <td>Single</td>\n",
       "      <td>Student</td>\n",
       "    </tr>\n",
       "    <tr>\n",
       "      <th>2</th>\n",
       "      <td>Henry</td>\n",
       "      <td>56</td>\n",
       "      <td>Male</td>\n",
       "      <td>France</td>\n",
       "      <td>Married</td>\n",
       "      <td>Retired</td>\n",
       "    </tr>\n",
       "    <tr>\n",
       "      <th>3</th>\n",
       "      <td>Praise</td>\n",
       "      <td>49</td>\n",
       "      <td>Female</td>\n",
       "      <td>USA</td>\n",
       "      <td>Divoiced</td>\n",
       "      <td>Doctor</td>\n",
       "    </tr>\n",
       "    <tr>\n",
       "      <th>4</th>\n",
       "      <td>Peter</td>\n",
       "      <td>45</td>\n",
       "      <td>Male</td>\n",
       "      <td>Nigeria</td>\n",
       "      <td>Married</td>\n",
       "      <td>Web Developer</td>\n",
       "    </tr>\n",
       "  </tbody>\n",
       "</table>\n",
       "</div>"
      ],
      "text/plain": [
       "     Name  Age     Sex Location    Status            Job\n",
       "1    Jane   20  Female   Russia    Single        Student\n",
       "2   Henry   56    Male   France   Married        Retired\n",
       "3  Praise   49  Female      USA  Divoiced         Doctor\n",
       "4   Peter   45    Male  Nigeria   Married  Web Developer"
      ]
     },
     "execution_count": 33,
     "metadata": {},
     "output_type": "execute_result"
    }
   ],
   "source": [
    "import pandas as pd\n",
    "df = pd.DataFrame({'Name':['Jane','Henry','Praise','Peter'],\n",
    "                  'Age':[20,56,49,45],\n",
    "                   'Sex':['Female','Male','Female','Male'],\n",
    "                  'Location':['Russia','France','USA','Nigeria'],\n",
    "                  'Status': ['Single','Married','Divoiced','Married'],\n",
    "                  'Job':['Student','Retired','Doctor','Web Developer']}, index = (1,2,3,4))\n",
    "\n",
    "df"
   ]
  },
  {
   "cell_type": "markdown",
   "id": "86672805",
   "metadata": {},
   "source": [
    "## Remove specific single column.\n",
    "\n",
    "To demonstrate how to drop a specific column, let us drop the 'Job' column."
   ]
  },
  {
   "cell_type": "code",
   "execution_count": 23,
   "id": "44df781d",
   "metadata": {},
   "outputs": [],
   "source": [
    "#Let us make a copy of our dataframe\n",
    "df2 = df.copy()"
   ]
  },
  {
   "cell_type": "code",
   "execution_count": 24,
   "id": "b1391d9f",
   "metadata": {},
   "outputs": [
    {
     "data": {
      "text/html": [
       "<div>\n",
       "<style scoped>\n",
       "    .dataframe tbody tr th:only-of-type {\n",
       "        vertical-align: middle;\n",
       "    }\n",
       "\n",
       "    .dataframe tbody tr th {\n",
       "        vertical-align: top;\n",
       "    }\n",
       "\n",
       "    .dataframe thead th {\n",
       "        text-align: right;\n",
       "    }\n",
       "</style>\n",
       "<table border=\"1\" class=\"dataframe\">\n",
       "  <thead>\n",
       "    <tr style=\"text-align: right;\">\n",
       "      <th></th>\n",
       "      <th>Name</th>\n",
       "      <th>Age</th>\n",
       "      <th>Sex</th>\n",
       "      <th>Location</th>\n",
       "      <th>Status</th>\n",
       "      <th>Job</th>\n",
       "    </tr>\n",
       "  </thead>\n",
       "  <tbody>\n",
       "    <tr>\n",
       "      <th>1</th>\n",
       "      <td>Jane</td>\n",
       "      <td>20</td>\n",
       "      <td>Female</td>\n",
       "      <td>Russia</td>\n",
       "      <td>Single</td>\n",
       "      <td>Student</td>\n",
       "    </tr>\n",
       "    <tr>\n",
       "      <th>2</th>\n",
       "      <td>Henry</td>\n",
       "      <td>56</td>\n",
       "      <td>Male</td>\n",
       "      <td>France</td>\n",
       "      <td>Married</td>\n",
       "      <td>Retired</td>\n",
       "    </tr>\n",
       "    <tr>\n",
       "      <th>3</th>\n",
       "      <td>Praise</td>\n",
       "      <td>49</td>\n",
       "      <td>Female</td>\n",
       "      <td>USA</td>\n",
       "      <td>Divoiced</td>\n",
       "      <td>Doctor</td>\n",
       "    </tr>\n",
       "    <tr>\n",
       "      <th>4</th>\n",
       "      <td>Peter</td>\n",
       "      <td>45</td>\n",
       "      <td>Male</td>\n",
       "      <td>Nigeria</td>\n",
       "      <td>Married</td>\n",
       "      <td>Web Developer</td>\n",
       "    </tr>\n",
       "  </tbody>\n",
       "</table>\n",
       "</div>"
      ],
      "text/plain": [
       "     Name  Age     Sex Location    Status            Job\n",
       "1    Jane   20  Female   Russia    Single        Student\n",
       "2   Henry   56    Male   France   Married        Retired\n",
       "3  Praise   49  Female      USA  Divoiced         Doctor\n",
       "4   Peter   45    Male  Nigeria   Married  Web Developer"
      ]
     },
     "execution_count": 24,
     "metadata": {},
     "output_type": "execute_result"
    }
   ],
   "source": [
    "'''\n",
    "The axis = 1 parameter species that we are dropping based on column and not row. \n",
    "To specify a row, you use axis = 0.\n",
    "'''\n",
    "df2.drop(['Job'], axis = 1)\n",
    "df2"
   ]
  },
  {
   "cell_type": "markdown",
   "id": "73624600",
   "metadata": {},
   "source": [
    "You will notice that despite performing the drop operation, our dataframe still have the 'Job' column. This is because the drop() method does not overwrite the orignal dataframe object. To overwrite the original dataframe object we will need to use the inplace parameter along. See the next code:"
   ]
  },
  {
   "cell_type": "code",
   "execution_count": 25,
   "id": "484db2b3",
   "metadata": {},
   "outputs": [
    {
     "data": {
      "text/html": [
       "<div>\n",
       "<style scoped>\n",
       "    .dataframe tbody tr th:only-of-type {\n",
       "        vertical-align: middle;\n",
       "    }\n",
       "\n",
       "    .dataframe tbody tr th {\n",
       "        vertical-align: top;\n",
       "    }\n",
       "\n",
       "    .dataframe thead th {\n",
       "        text-align: right;\n",
       "    }\n",
       "</style>\n",
       "<table border=\"1\" class=\"dataframe\">\n",
       "  <thead>\n",
       "    <tr style=\"text-align: right;\">\n",
       "      <th></th>\n",
       "      <th>Name</th>\n",
       "      <th>Age</th>\n",
       "      <th>Sex</th>\n",
       "      <th>Location</th>\n",
       "      <th>Status</th>\n",
       "    </tr>\n",
       "  </thead>\n",
       "  <tbody>\n",
       "    <tr>\n",
       "      <th>1</th>\n",
       "      <td>Jane</td>\n",
       "      <td>20</td>\n",
       "      <td>Female</td>\n",
       "      <td>Russia</td>\n",
       "      <td>Single</td>\n",
       "    </tr>\n",
       "    <tr>\n",
       "      <th>2</th>\n",
       "      <td>Henry</td>\n",
       "      <td>56</td>\n",
       "      <td>Male</td>\n",
       "      <td>France</td>\n",
       "      <td>Married</td>\n",
       "    </tr>\n",
       "    <tr>\n",
       "      <th>3</th>\n",
       "      <td>Praise</td>\n",
       "      <td>49</td>\n",
       "      <td>Female</td>\n",
       "      <td>USA</td>\n",
       "      <td>Divoiced</td>\n",
       "    </tr>\n",
       "    <tr>\n",
       "      <th>4</th>\n",
       "      <td>Peter</td>\n",
       "      <td>45</td>\n",
       "      <td>Male</td>\n",
       "      <td>Nigeria</td>\n",
       "      <td>Married</td>\n",
       "    </tr>\n",
       "  </tbody>\n",
       "</table>\n",
       "</div>"
      ],
      "text/plain": [
       "     Name  Age     Sex Location    Status\n",
       "1    Jane   20  Female   Russia    Single\n",
       "2   Henry   56    Male   France   Married\n",
       "3  Praise   49  Female      USA  Divoiced\n",
       "4   Peter   45    Male  Nigeria   Married"
      ]
     },
     "execution_count": 25,
     "metadata": {},
     "output_type": "execute_result"
    }
   ],
   "source": [
    "df2.drop(['Job'], axis = 1, inplace = True)\n",
    "df2"
   ]
  },
  {
   "cell_type": "markdown",
   "id": "3aba62b0",
   "metadata": {},
   "source": [
    "You will notice that the 'Job' columnn is now out since we have now used the inplace parameter."
   ]
  },
  {
   "cell_type": "markdown",
   "id": "4c898b29",
   "metadata": {},
   "source": [
    "## Remove specific multiple columns.\n",
    "\n",
    "Let us remove the 'Location' and 'Status' columns this time."
   ]
  },
  {
   "cell_type": "code",
   "execution_count": 26,
   "id": "0e911795",
   "metadata": {},
   "outputs": [
    {
     "data": {
      "text/html": [
       "<div>\n",
       "<style scoped>\n",
       "    .dataframe tbody tr th:only-of-type {\n",
       "        vertical-align: middle;\n",
       "    }\n",
       "\n",
       "    .dataframe tbody tr th {\n",
       "        vertical-align: top;\n",
       "    }\n",
       "\n",
       "    .dataframe thead th {\n",
       "        text-align: right;\n",
       "    }\n",
       "</style>\n",
       "<table border=\"1\" class=\"dataframe\">\n",
       "  <thead>\n",
       "    <tr style=\"text-align: right;\">\n",
       "      <th></th>\n",
       "      <th>Name</th>\n",
       "      <th>Age</th>\n",
       "      <th>Sex</th>\n",
       "    </tr>\n",
       "  </thead>\n",
       "  <tbody>\n",
       "    <tr>\n",
       "      <th>1</th>\n",
       "      <td>Jane</td>\n",
       "      <td>20</td>\n",
       "      <td>Female</td>\n",
       "    </tr>\n",
       "    <tr>\n",
       "      <th>2</th>\n",
       "      <td>Henry</td>\n",
       "      <td>56</td>\n",
       "      <td>Male</td>\n",
       "    </tr>\n",
       "    <tr>\n",
       "      <th>3</th>\n",
       "      <td>Praise</td>\n",
       "      <td>49</td>\n",
       "      <td>Female</td>\n",
       "    </tr>\n",
       "    <tr>\n",
       "      <th>4</th>\n",
       "      <td>Peter</td>\n",
       "      <td>45</td>\n",
       "      <td>Male</td>\n",
       "    </tr>\n",
       "  </tbody>\n",
       "</table>\n",
       "</div>"
      ],
      "text/plain": [
       "     Name  Age     Sex\n",
       "1    Jane   20  Female\n",
       "2   Henry   56    Male\n",
       "3  Praise   49  Female\n",
       "4   Peter   45    Male"
      ]
     },
     "execution_count": 26,
     "metadata": {},
     "output_type": "execute_result"
    }
   ],
   "source": [
    "df2.drop(['Location','Status'], axis = 1, inplace = True)\n",
    "df2"
   ]
  },
  {
   "cell_type": "markdown",
   "id": "3a649576",
   "metadata": {},
   "source": [
    "## Remove columns as based on column index.\n",
    "\n",
    "We can drop columns based on their index location. The index of a column like the reference address or position for that column.\n",
    "\n",
    "Let us remove the column having index 0"
   ]
  },
  {
   "cell_type": "code",
   "execution_count": 27,
   "id": "ae0463fe",
   "metadata": {},
   "outputs": [
    {
     "data": {
      "text/html": [
       "<div>\n",
       "<style scoped>\n",
       "    .dataframe tbody tr th:only-of-type {\n",
       "        vertical-align: middle;\n",
       "    }\n",
       "\n",
       "    .dataframe tbody tr th {\n",
       "        vertical-align: top;\n",
       "    }\n",
       "\n",
       "    .dataframe thead th {\n",
       "        text-align: right;\n",
       "    }\n",
       "</style>\n",
       "<table border=\"1\" class=\"dataframe\">\n",
       "  <thead>\n",
       "    <tr style=\"text-align: right;\">\n",
       "      <th></th>\n",
       "      <th>Age</th>\n",
       "      <th>Sex</th>\n",
       "    </tr>\n",
       "  </thead>\n",
       "  <tbody>\n",
       "    <tr>\n",
       "      <th>1</th>\n",
       "      <td>20</td>\n",
       "      <td>Female</td>\n",
       "    </tr>\n",
       "    <tr>\n",
       "      <th>2</th>\n",
       "      <td>56</td>\n",
       "      <td>Male</td>\n",
       "    </tr>\n",
       "    <tr>\n",
       "      <th>3</th>\n",
       "      <td>49</td>\n",
       "      <td>Female</td>\n",
       "    </tr>\n",
       "    <tr>\n",
       "      <th>4</th>\n",
       "      <td>45</td>\n",
       "      <td>Male</td>\n",
       "    </tr>\n",
       "  </tbody>\n",
       "</table>\n",
       "</div>"
      ],
      "text/plain": [
       "   Age     Sex\n",
       "1   20  Female\n",
       "2   56    Male\n",
       "3   49  Female\n",
       "4   45    Male"
      ]
     },
     "execution_count": 27,
     "metadata": {},
     "output_type": "execute_result"
    }
   ],
   "source": [
    "df2.drop(df2.columns[[0]], axis = 1, inplace = True)\n",
    "df2"
   ]
  },
  {
   "cell_type": "markdown",
   "id": "7462f0c6",
   "metadata": {},
   "source": [
    "You will notice that the 'Name' column is gone as Python begins its indexing from 0."
   ]
  },
  {
   "cell_type": "markdown",
   "id": "93ed156e",
   "metadata": {},
   "source": [
    "## Remove columns as based on multiple column index.\n",
    "\n",
    "We will recopy our dataframe and use the index position to drop columns 0, 3, 5"
   ]
  },
  {
   "cell_type": "code",
   "execution_count": 35,
   "id": "fdb5d8aa",
   "metadata": {
    "scrolled": true
   },
   "outputs": [
    {
     "data": {
      "text/html": [
       "<div>\n",
       "<style scoped>\n",
       "    .dataframe tbody tr th:only-of-type {\n",
       "        vertical-align: middle;\n",
       "    }\n",
       "\n",
       "    .dataframe tbody tr th {\n",
       "        vertical-align: top;\n",
       "    }\n",
       "\n",
       "    .dataframe thead th {\n",
       "        text-align: right;\n",
       "    }\n",
       "</style>\n",
       "<table border=\"1\" class=\"dataframe\">\n",
       "  <thead>\n",
       "    <tr style=\"text-align: right;\">\n",
       "      <th></th>\n",
       "      <th>Age</th>\n",
       "      <th>Sex</th>\n",
       "      <th>Status</th>\n",
       "    </tr>\n",
       "  </thead>\n",
       "  <tbody>\n",
       "    <tr>\n",
       "      <th>1</th>\n",
       "      <td>20</td>\n",
       "      <td>Female</td>\n",
       "      <td>Single</td>\n",
       "    </tr>\n",
       "    <tr>\n",
       "      <th>2</th>\n",
       "      <td>56</td>\n",
       "      <td>Male</td>\n",
       "      <td>Married</td>\n",
       "    </tr>\n",
       "    <tr>\n",
       "      <th>3</th>\n",
       "      <td>49</td>\n",
       "      <td>Female</td>\n",
       "      <td>Divoiced</td>\n",
       "    </tr>\n",
       "    <tr>\n",
       "      <th>4</th>\n",
       "      <td>45</td>\n",
       "      <td>Male</td>\n",
       "      <td>Married</td>\n",
       "    </tr>\n",
       "  </tbody>\n",
       "</table>\n",
       "</div>"
      ],
      "text/plain": [
       "   Age     Sex    Status\n",
       "1   20  Female    Single\n",
       "2   56    Male   Married\n",
       "3   49  Female  Divoiced\n",
       "4   45    Male   Married"
      ]
     },
     "execution_count": 35,
     "metadata": {},
     "output_type": "execute_result"
    }
   ],
   "source": [
    "df2 = df.copy()\n",
    "df2.drop(df2.columns[[0,3,5]], axis = 1, inplace = True)\n",
    "df2"
   ]
  },
  {
   "cell_type": "markdown",
   "id": "6b5af524",
   "metadata": {},
   "source": [
    "This takes away the Name, Location and Job columns"
   ]
  },
  {
   "cell_type": "markdown",
   "id": "69cf5f88",
   "metadata": {},
   "source": [
    "## Drop columns using iloc[] and drop() method.\n",
    "\n",
    "The iloc[] is the integer location of a particular column."
   ]
  },
  {
   "cell_type": "code",
   "execution_count": 38,
   "id": "ad347ffe",
   "metadata": {
    "scrolled": false
   },
   "outputs": [
    {
     "data": {
      "text/html": [
       "<div>\n",
       "<style scoped>\n",
       "    .dataframe tbody tr th:only-of-type {\n",
       "        vertical-align: middle;\n",
       "    }\n",
       "\n",
       "    .dataframe tbody tr th {\n",
       "        vertical-align: top;\n",
       "    }\n",
       "\n",
       "    .dataframe thead th {\n",
       "        text-align: right;\n",
       "    }\n",
       "</style>\n",
       "<table border=\"1\" class=\"dataframe\">\n",
       "  <thead>\n",
       "    <tr style=\"text-align: right;\">\n",
       "      <th></th>\n",
       "      <th>Name</th>\n",
       "      <th>Location</th>\n",
       "      <th>Status</th>\n",
       "      <th>Job</th>\n",
       "    </tr>\n",
       "  </thead>\n",
       "  <tbody>\n",
       "    <tr>\n",
       "      <th>1</th>\n",
       "      <td>Jane</td>\n",
       "      <td>Russia</td>\n",
       "      <td>Single</td>\n",
       "      <td>Student</td>\n",
       "    </tr>\n",
       "    <tr>\n",
       "      <th>2</th>\n",
       "      <td>Henry</td>\n",
       "      <td>France</td>\n",
       "      <td>Married</td>\n",
       "      <td>Retired</td>\n",
       "    </tr>\n",
       "    <tr>\n",
       "      <th>3</th>\n",
       "      <td>Praise</td>\n",
       "      <td>USA</td>\n",
       "      <td>Divoiced</td>\n",
       "      <td>Doctor</td>\n",
       "    </tr>\n",
       "    <tr>\n",
       "      <th>4</th>\n",
       "      <td>Peter</td>\n",
       "      <td>Nigeria</td>\n",
       "      <td>Married</td>\n",
       "      <td>Web Developer</td>\n",
       "    </tr>\n",
       "  </tbody>\n",
       "</table>\n",
       "</div>"
      ],
      "text/plain": [
       "     Name Location    Status            Job\n",
       "1    Jane   Russia    Single        Student\n",
       "2   Henry   France   Married        Retired\n",
       "3  Praise      USA  Divoiced         Doctor\n",
       "4   Peter  Nigeria   Married  Web Developer"
      ]
     },
     "execution_count": 38,
     "metadata": {},
     "output_type": "execute_result"
    }
   ],
   "source": [
    "df2 = df.copy()\n",
    "df2.drop(df.iloc[:, 1:3], inplace = True, axis = 1)\n",
    "df2"
   ]
  },
  {
   "cell_type": "markdown",
   "id": "e0e92d37",
   "metadata": {},
   "source": [
    "Our iloc[] operation has dropped columns 1 and 2 which are 'Age' and 'Sex'."
   ]
  },
  {
   "cell_type": "markdown",
   "id": "ea7c6bad",
   "metadata": {},
   "source": [
    "## Drop columns using loc[] and drop() method.\n",
    "\n",
    "The loc[] function references columns in a dataframe by name."
   ]
  },
  {
   "cell_type": "code",
   "execution_count": 39,
   "id": "8c5501da",
   "metadata": {},
   "outputs": [
    {
     "data": {
      "text/html": [
       "<div>\n",
       "<style scoped>\n",
       "    .dataframe tbody tr th:only-of-type {\n",
       "        vertical-align: middle;\n",
       "    }\n",
       "\n",
       "    .dataframe tbody tr th {\n",
       "        vertical-align: top;\n",
       "    }\n",
       "\n",
       "    .dataframe thead th {\n",
       "        text-align: right;\n",
       "    }\n",
       "</style>\n",
       "<table border=\"1\" class=\"dataframe\">\n",
       "  <thead>\n",
       "    <tr style=\"text-align: right;\">\n",
       "      <th></th>\n",
       "      <th>Name</th>\n",
       "      <th>Job</th>\n",
       "    </tr>\n",
       "  </thead>\n",
       "  <tbody>\n",
       "    <tr>\n",
       "      <th>1</th>\n",
       "      <td>Jane</td>\n",
       "      <td>Student</td>\n",
       "    </tr>\n",
       "    <tr>\n",
       "      <th>2</th>\n",
       "      <td>Henry</td>\n",
       "      <td>Retired</td>\n",
       "    </tr>\n",
       "    <tr>\n",
       "      <th>3</th>\n",
       "      <td>Praise</td>\n",
       "      <td>Doctor</td>\n",
       "    </tr>\n",
       "    <tr>\n",
       "      <th>4</th>\n",
       "      <td>Peter</td>\n",
       "      <td>Web Developer</td>\n",
       "    </tr>\n",
       "  </tbody>\n",
       "</table>\n",
       "</div>"
      ],
      "text/plain": [
       "     Name            Job\n",
       "1    Jane        Student\n",
       "2   Henry        Retired\n",
       "3  Praise         Doctor\n",
       "4   Peter  Web Developer"
      ]
     },
     "execution_count": 39,
     "metadata": {},
     "output_type": "execute_result"
    }
   ],
   "source": [
    "df2.drop(df2.loc[:, 'Location':'Status'].columns, axis = 1, inplace = True)\n",
    "\n",
    "df2"
   ]
  },
  {
   "cell_type": "markdown",
   "id": "67644930",
   "metadata": {},
   "source": [
    "This last operation leaves us with just the 'Name' and 'Job' columns."
   ]
  },
  {
   "cell_type": "markdown",
   "id": "6fb15272",
   "metadata": {},
   "source": [
    "### Wrap Up\n",
    "\n",
    "At the end of this class, you are now able to clean a dataset that requires you to drop columns based on different requirements and you can do so using different techniques. \n",
    "\n",
    "To follow more classes please follow [Data Science Arena](https://twitter.com/@xtian4zy). \n",
    "\n",
    "Complete the exercise that accompanies this class and tag me on twitter to your solution."
   ]
  }
 ],
 "metadata": {
  "kernelspec": {
   "display_name": "Python 3",
   "language": "python",
   "name": "python3"
  },
  "language_info": {
   "codemirror_mode": {
    "name": "ipython",
    "version": 3
   },
   "file_extension": ".py",
   "mimetype": "text/x-python",
   "name": "python",
   "nbconvert_exporter": "python",
   "pygments_lexer": "ipython3",
   "version": "3.8.8"
  }
 },
 "nbformat": 4,
 "nbformat_minor": 5
}
